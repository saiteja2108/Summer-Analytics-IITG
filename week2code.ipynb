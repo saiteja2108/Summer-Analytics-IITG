{
 "cells": [
  {
   "cell_type": "code",
   "execution_count": 31,
   "id": "0f3036fb-37d5-4017-8697-618e88d7967a",
   "metadata": {},
   "outputs": [
    {
     "name": "stdout",
     "output_type": "stream",
     "text": [
      "   Unnamed: 0  ID  class  20150720_N  20150602_N  20150517_N  20150501_N  \\\n",
      "0           0   1  water    637.5950     658.668   -1882.030    -1924.36   \n",
      "1           1   2  water    634.2400     593.705   -1625.790    -1672.32   \n",
      "2           3   4  water     58.0174   -1599.160         NaN    -1052.63   \n",
      "3           4   5  water     72.5180         NaN     380.436    -1256.93   \n",
      "4           7   8  water   1136.4400         NaN         NaN     1647.83   \n",
      "\n",
      "   20150415_N  20150330_N  20150314_N  ...  20140610_N  20140525_N  \\\n",
      "0     997.904   -1739.990     630.087  ...         NaN   -1043.160   \n",
      "1     914.198    -692.386     707.626  ...         NaN    -933.934   \n",
      "2         NaN   -1564.630         NaN  ...    -1025.88     368.622   \n",
      "3     515.805   -1413.180    -802.942  ...    -1813.95     155.624   \n",
      "4    1935.800         NaN    2158.980  ...     1535.00    1959.430   \n",
      "\n",
      "   20140509_N  20140423_N  20140407_N  20140322_N  20140218_N  20140202_N  \\\n",
      "0   -1942.490     267.138         NaN         NaN     211.328   -2203.020   \n",
      "1    -625.385     120.059     364.858     476.972     220.878   -2250.000   \n",
      "2         NaN   -1227.800     304.621         NaN     369.214   -2202.120   \n",
      "3         NaN    -924.073     432.150     282.833     298.320   -2197.360   \n",
      "4    -279.317    -384.915    -113.406    1020.720    1660.650    -116.801   \n",
      "\n",
      "   20140117_N  20140101_N  \n",
      "0    -1180.19     433.906  \n",
      "1    -1360.56     524.075  \n",
      "2         NaN   -1343.550  \n",
      "3         NaN    -826.727  \n",
      "4     -568.05   -1357.140  \n",
      "\n",
      "[5 rows x 30 columns]\n",
      "   Unnamed: 0  ID  20150720_N  20150602_N  20150517_N  20150501_N  20150415_N  \\\n",
      "0           0   1     7466.42     413.162     5761.00     5625.45     489.403   \n",
      "1           1   2     7235.26    6037.350     1027.56     6085.14    1618.050   \n",
      "2           2   3     7425.08    6969.980     1177.94     7408.93     861.061   \n",
      "3           3   4     7119.12    1731.620     6311.93     6441.61     465.979   \n",
      "4           4   5     7519.55    8130.260     1482.54     7879.53    1001.210   \n",
      "\n",
      "   20150330_N  20150314_N  20150226_N  ...  20140610_N  20140525_N  \\\n",
      "0     3923.84    3097.110     6766.42  ...     801.184     927.115   \n",
      "1     6668.54    2513.990     1051.69  ...    5533.470    5103.040   \n",
      "2     7644.43     814.458     1504.29  ...    1981.390    6204.540   \n",
      "3     7128.42    1649.120     6935.22  ...     959.344    5794.150   \n",
      "4     7937.60    4122.530     1094.51  ...    7636.070    6996.760   \n",
      "\n",
      "   20140509_N  20140423_N  20140407_N  20140322_N  20140218_N  20140202_N  \\\n",
      "0     4704.14     6378.42     340.949    2695.570     527.268     4736.75   \n",
      "1     5216.12     4885.27    4366.790    1234.140    3298.110     6942.68   \n",
      "2     7021.69     5704.41    4897.450    1789.990    2206.100     6928.93   \n",
      "3     1045.57     5572.90     586.287     685.906    1287.000     6734.72   \n",
      "4     7413.43     4596.13    4511.700    1413.520    3283.940     7937.68   \n",
      "\n",
      "   20140117_N  20140101_N  \n",
      "0     601.843    6639.760  \n",
      "1    1070.440     842.101  \n",
      "2    1036.560     831.441  \n",
      "3     824.584    6883.610  \n",
      "4    1857.800    1336.920  \n",
      "\n",
      "[5 rows x 29 columns]\n"
     ]
    }
   ],
   "source": [
    "import pandas as pd\n",
    "import numpy as np\n",
    "\n",
    "# Load datasets\n",
    "train_df = pd.read_csv('data/hacktrain.csv')\n",
    "test_df = pd.read_csv('data/hacktest.csv')\n",
    "\n",
    "# Check data\n",
    "print(train_df.head())\n",
    "print(test_df.head())\n"
   ]
  },
  {
   "cell_type": "code",
   "execution_count": 32,
   "id": "5f8ca2c9-9e07-4a40-a4a8-b7ace735bad4",
   "metadata": {},
   "outputs": [
    {
     "name": "stdout",
     "output_type": "stream",
     "text": [
      "<class 'pandas.core.frame.DataFrame'>\n",
      "RangeIndex: 8000 entries, 0 to 7999\n",
      "Data columns (total 30 columns):\n",
      " #   Column      Non-Null Count  Dtype  \n",
      "---  ------      --------------  -----  \n",
      " 0   Unnamed: 0  8000 non-null   int64  \n",
      " 1   ID          8000 non-null   int64  \n",
      " 2   class       8000 non-null   object \n",
      " 3   20150720_N  7440 non-null   float64\n",
      " 4   20150602_N  6800 non-null   float64\n",
      " 5   20150517_N  7200 non-null   float64\n",
      " 6   20150501_N  7040 non-null   float64\n",
      " 7   20150415_N  7520 non-null   float64\n",
      " 8   20150330_N  6880 non-null   float64\n",
      " 9   20150314_N  7280 non-null   float64\n",
      " 10  20150226_N  6640 non-null   float64\n",
      " 11  20150210_N  7360 non-null   float64\n",
      " 12  20150125_N  6960 non-null   float64\n",
      " 13  20150109_N  7120 non-null   float64\n",
      " 14  20141117_N  6720 non-null   float64\n",
      " 15  20141101_N  7600 non-null   float64\n",
      " 16  20141016_N  6560 non-null   float64\n",
      " 17  20140930_N  7200 non-null   float64\n",
      " 18  20140813_N  7440 non-null   float64\n",
      " 19  20140626_N  6400 non-null   float64\n",
      " 20  20140610_N  7520 non-null   float64\n",
      " 21  20140525_N  7280 non-null   float64\n",
      " 22  20140509_N  7120 non-null   float64\n",
      " 23  20140423_N  6240 non-null   float64\n",
      " 24  20140407_N  7360 non-null   float64\n",
      " 25  20140322_N  6880 non-null   float64\n",
      " 26  20140218_N  6560 non-null   float64\n",
      " 27  20140202_N  7440 non-null   float64\n",
      " 28  20140117_N  6800 non-null   float64\n",
      " 29  20140101_N  7600 non-null   float64\n",
      "dtypes: float64(27), int64(2), object(1)\n",
      "memory usage: 1.8+ MB\n",
      "None\n",
      "Unnamed: 0       0\n",
      "ID               0\n",
      "class            0\n",
      "20150720_N     560\n",
      "20150602_N    1200\n",
      "20150517_N     800\n",
      "20150501_N     960\n",
      "20150415_N     480\n",
      "20150330_N    1120\n",
      "20150314_N     720\n",
      "20150226_N    1360\n",
      "20150210_N     640\n",
      "20150125_N    1040\n",
      "20150109_N     880\n",
      "20141117_N    1280\n",
      "20141101_N     400\n",
      "20141016_N    1440\n",
      "20140930_N     800\n",
      "20140813_N     560\n",
      "20140626_N    1600\n",
      "20140610_N     480\n",
      "20140525_N     720\n",
      "20140509_N     880\n",
      "20140423_N    1760\n",
      "20140407_N     640\n",
      "20140322_N    1120\n",
      "20140218_N    1440\n",
      "20140202_N     560\n",
      "20140117_N    1200\n",
      "20140101_N     400\n",
      "dtype: int64\n",
      "         Unnamed: 0            ID   20150720_N   20150602_N   20150517_N  \\\n",
      "count   8000.000000   8000.000000  7440.000000  6800.000000  7200.000000   \n",
      "mean    4984.202625   4985.202625  5845.476916  4868.091395  4469.837748   \n",
      "std     2900.022898   2900.022898  2261.409128  2758.499942  2876.218394   \n",
      "min        0.000000      1.000000  -433.735000 -1781.790000 -2939.740000   \n",
      "25%     2514.750000   2515.750000  4331.232500  2067.265000  1521.195000   \n",
      "50%     4917.500000   4918.500000  6908.255000  5513.375000  4672.000000   \n",
      "75%     7311.250000   7312.250000  7626.845000  7555.570000  7431.697500   \n",
      "max    10544.000000  10545.000000  8376.150000  8566.420000  8650.500000   \n",
      "\n",
      "        20150501_N   20150415_N   20150330_N   20150314_N   20150226_N  ...  \\\n",
      "count  7040.000000  7520.000000  6880.000000  7280.000000  6640.000000  ...   \n",
      "mean   5193.485086  2927.586705  4924.493648  3313.881373  4987.520158  ...   \n",
      "std    2510.389832  2728.325670  2600.418802  2434.828743  2674.963286  ...   \n",
      "min   -1924.360000 -1794.870000 -1848.910000 -1574.970000 -2532.490000  ...   \n",
      "25%    3087.072500   500.515750  2398.385000   992.778250  2404.075000  ...   \n",
      "50%    5810.755000  1586.240000  5742.485000  2802.010000  5831.120000  ...   \n",
      "75%    7511.880000  5703.067500  7280.110000  5508.350000  7430.915000  ...   \n",
      "max    8516.100000  8267.120000  8499.330000  8001.700000  8452.380000  ...   \n",
      "\n",
      "        20140610_N   20140525_N   20140509_N   20140423_N   20140407_N  \\\n",
      "count  7520.000000  7280.000000  7120.000000  6240.000000  7360.000000   \n",
      "mean   4872.681670  3674.886731  3012.178524  3055.167358  2041.316792   \n",
      "std    2776.135418  2331.105635  2068.334108  2209.985887  2040.354512   \n",
      "min   -2683.600000 -1043.160000 -2435.900000 -1505.780000 -1445.370000   \n",
      "25%    2010.732500  1369.355000  1368.742500  1009.827500   419.987000   \n",
      "50%    5484.905000  3659.770000  2633.695000  2624.125000  1183.715000   \n",
      "75%    7607.755000  5927.035000  4128.082500  4952.317500  3075.997500   \n",
      "max    8489.970000  7981.820000  8445.410000  7762.980000  8078.080000   \n",
      "\n",
      "        20140322_N   20140218_N   20140202_N   20140117_N   20140101_N  \n",
      "count  6880.000000  6560.000000  7440.000000  6800.000000  7600.000000  \n",
      "mean   2799.820342  2144.360224  6259.064275  2629.203972  2578.449870  \n",
      "std    2452.563243  2267.606759  1825.563702  2386.147667  2436.270797  \n",
      "min      55.564100  -232.292000 -2729.430000 -2139.860000 -4145.250000  \n",
      "25%     791.741250   501.602750  5938.257500   691.171500   689.199000  \n",
      "50%    1599.385000   969.711500  6941.010000  1521.210000  1439.950000  \n",
      "75%    4909.997500  3227.380000  7395.612500  4452.257500  4146.342500  \n",
      "max    8216.700000  8247.630000  8410.330000  8418.230000  8502.020000  \n",
      "\n",
      "[8 rows x 29 columns]\n"
     ]
    }
   ],
   "source": [
    "print(train_df.info())\n",
    "print(train_df.isnull().sum())\n",
    "print(train_df.describe())\n"
   ]
  },
  {
   "cell_type": "code",
   "execution_count": 33,
   "id": "cd539bc5-4740-4e1e-8b70-4e5b61187a1d",
   "metadata": {},
   "outputs": [
    {
     "name": "stdout",
     "output_type": "stream",
     "text": [
      "class\n",
      "forest        6159\n",
      "farm           841\n",
      "impervious     669\n",
      "grass          196\n",
      "water          105\n",
      "orchard         30\n",
      "Name: count, dtype: int64\n"
     ]
    }
   ],
   "source": [
    "print(train_df['class'].value_counts())\n"
   ]
  },
  {
   "cell_type": "code",
   "execution_count": 39,
   "id": "155dd91e-f2ff-4157-9f4d-9a6c7296b66b",
   "metadata": {},
   "outputs": [],
   "source": [
    "ndvi_cols = [col for col in train_df.columns if '_N' in col]\n",
    "train_df[ndvi_cols] = train_df[ndvi_cols].interpolate(axis=1)\n",
    "test_df[ndvi_cols] = test_df[ndvi_cols].interpolate(axis=1)\n"
   ]
  },
  {
   "cell_type": "code",
   "execution_count": 38,
   "id": "35fe3de5-8628-4603-a4d0-ed048da079d4",
   "metadata": {},
   "outputs": [],
   "source": [
    "train_df['ndvi_mean'] = train_df[ndvi_cols].mean(axis=1)\n",
    "train_df['ndvi_std'] = train_df[ndvi_cols].std(axis=1)\n",
    "test_df['ndvi_mean'] = test_df[ndvi_cols].mean(axis=1)\n",
    "test_df['ndvi_std'] = test_df[ndvi_cols].std(axis=1)\n"
   ]
  },
  {
   "cell_type": "code",
   "execution_count": 40,
   "id": "1d1c2c46-1442-45a5-81bb-48b607e2dbc7",
   "metadata": {},
   "outputs": [],
   "source": [
    "from sklearn.preprocessing import LabelEncoder\n",
    "\n",
    "le = LabelEncoder()\n",
    "train_df['class_encoded'] = le.fit_transform(train_df['class'])\n"
   ]
  },
  {
   "cell_type": "code",
   "execution_count": 41,
   "id": "a81a7e6b-58d2-411a-b9e7-840aebd38508",
   "metadata": {},
   "outputs": [],
   "source": [
    "features = ndvi_cols + ['ndvi_mean', 'ndvi_std']\n",
    "X = train_df[features]\n",
    "y = train_df['class_encoded']\n",
    "X_test = test_df[features]\n"
   ]
  },
  {
   "cell_type": "code",
   "execution_count": 42,
   "id": "2e1d63e3-7bd5-4a8c-9ace-89f0617d95f2",
   "metadata": {},
   "outputs": [],
   "source": [
    "from sklearn.model_selection import train_test_split\n",
    "\n",
    "X_train, X_val, y_train, y_val = train_test_split(X, y, test_size=0.2, random_state=42)\n"
   ]
  },
  {
   "cell_type": "code",
   "execution_count": 45,
   "id": "832844a7-0b64-4cf5-a6a8-8686f1ed5490",
   "metadata": {},
   "outputs": [
    {
     "data": {
      "text/html": [
       "<style>#sk-container-id-5 {color: black;}#sk-container-id-5 pre{padding: 0;}#sk-container-id-5 div.sk-toggleable {background-color: white;}#sk-container-id-5 label.sk-toggleable__label {cursor: pointer;display: block;width: 100%;margin-bottom: 0;padding: 0.3em;box-sizing: border-box;text-align: center;}#sk-container-id-5 label.sk-toggleable__label-arrow:before {content: \"▸\";float: left;margin-right: 0.25em;color: #696969;}#sk-container-id-5 label.sk-toggleable__label-arrow:hover:before {color: black;}#sk-container-id-5 div.sk-estimator:hover label.sk-toggleable__label-arrow:before {color: black;}#sk-container-id-5 div.sk-toggleable__content {max-height: 0;max-width: 0;overflow: hidden;text-align: left;background-color: #f0f8ff;}#sk-container-id-5 div.sk-toggleable__content pre {margin: 0.2em;color: black;border-radius: 0.25em;background-color: #f0f8ff;}#sk-container-id-5 input.sk-toggleable__control:checked~div.sk-toggleable__content {max-height: 200px;max-width: 100%;overflow: auto;}#sk-container-id-5 input.sk-toggleable__control:checked~label.sk-toggleable__label-arrow:before {content: \"▾\";}#sk-container-id-5 div.sk-estimator input.sk-toggleable__control:checked~label.sk-toggleable__label {background-color: #d4ebff;}#sk-container-id-5 div.sk-label input.sk-toggleable__control:checked~label.sk-toggleable__label {background-color: #d4ebff;}#sk-container-id-5 input.sk-hidden--visually {border: 0;clip: rect(1px 1px 1px 1px);clip: rect(1px, 1px, 1px, 1px);height: 1px;margin: -1px;overflow: hidden;padding: 0;position: absolute;width: 1px;}#sk-container-id-5 div.sk-estimator {font-family: monospace;background-color: #f0f8ff;border: 1px dotted black;border-radius: 0.25em;box-sizing: border-box;margin-bottom: 0.5em;}#sk-container-id-5 div.sk-estimator:hover {background-color: #d4ebff;}#sk-container-id-5 div.sk-parallel-item::after {content: \"\";width: 100%;border-bottom: 1px solid gray;flex-grow: 1;}#sk-container-id-5 div.sk-label:hover label.sk-toggleable__label {background-color: #d4ebff;}#sk-container-id-5 div.sk-serial::before {content: \"\";position: absolute;border-left: 1px solid gray;box-sizing: border-box;top: 0;bottom: 0;left: 50%;z-index: 0;}#sk-container-id-5 div.sk-serial {display: flex;flex-direction: column;align-items: center;background-color: white;padding-right: 0.2em;padding-left: 0.2em;position: relative;}#sk-container-id-5 div.sk-item {position: relative;z-index: 1;}#sk-container-id-5 div.sk-parallel {display: flex;align-items: stretch;justify-content: center;background-color: white;position: relative;}#sk-container-id-5 div.sk-item::before, #sk-container-id-5 div.sk-parallel-item::before {content: \"\";position: absolute;border-left: 1px solid gray;box-sizing: border-box;top: 0;bottom: 0;left: 50%;z-index: -1;}#sk-container-id-5 div.sk-parallel-item {display: flex;flex-direction: column;z-index: 1;position: relative;background-color: white;}#sk-container-id-5 div.sk-parallel-item:first-child::after {align-self: flex-end;width: 50%;}#sk-container-id-5 div.sk-parallel-item:last-child::after {align-self: flex-start;width: 50%;}#sk-container-id-5 div.sk-parallel-item:only-child::after {width: 0;}#sk-container-id-5 div.sk-dashed-wrapped {border: 1px dashed gray;margin: 0 0.4em 0.5em 0.4em;box-sizing: border-box;padding-bottom: 0.4em;background-color: white;}#sk-container-id-5 div.sk-label label {font-family: monospace;font-weight: bold;display: inline-block;line-height: 1.2em;}#sk-container-id-5 div.sk-label-container {text-align: center;}#sk-container-id-5 div.sk-container {/* jupyter's `normalize.less` sets `[hidden] { display: none; }` but bootstrap.min.css set `[hidden] { display: none !important; }` so we also need the `!important` here to be able to override the default hidden behavior on the sphinx rendered scikit-learn.org. See: https://github.com/scikit-learn/scikit-learn/issues/21755 */display: inline-block !important;position: relative;}#sk-container-id-5 div.sk-text-repr-fallback {display: none;}</style><div id=\"sk-container-id-5\" class=\"sk-top-container\"><div class=\"sk-text-repr-fallback\"><pre>LogisticRegression(max_iter=1000, multi_class=&#x27;multinomial&#x27;, solver=&#x27;saga&#x27;)</pre><b>In a Jupyter environment, please rerun this cell to show the HTML representation or trust the notebook. <br />On GitHub, the HTML representation is unable to render, please try loading this page with nbviewer.org.</b></div><div class=\"sk-container\" hidden><div class=\"sk-item\"><div class=\"sk-estimator sk-toggleable\"><input class=\"sk-toggleable__control sk-hidden--visually\" id=\"sk-estimator-id-5\" type=\"checkbox\" checked><label for=\"sk-estimator-id-5\" class=\"sk-toggleable__label sk-toggleable__label-arrow\">LogisticRegression</label><div class=\"sk-toggleable__content\"><pre>LogisticRegression(max_iter=1000, multi_class=&#x27;multinomial&#x27;, solver=&#x27;saga&#x27;)</pre></div></div></div></div></div>"
      ],
      "text/plain": [
       "LogisticRegression(max_iter=1000, multi_class='multinomial', solver='saga')"
      ]
     },
     "execution_count": 45,
     "metadata": {},
     "output_type": "execute_result"
    }
   ],
   "source": [
    "from sklearn.preprocessing import StandardScaler\n",
    "\n",
    "scaler = StandardScaler()\n",
    "X_train_scaled = scaler.fit_transform(X_train)\n",
    "X_val_scaled = scaler.transform(X_val)\n",
    "X_test_scaled = scaler.transform(X_test)\n",
    "\n",
    "model = LogisticRegression(max_iter=1000, multi_class='multinomial', solver='saga')\n",
    "model.fit(X_train_scaled, y_train)\n"
   ]
  },
  {
   "cell_type": "code",
   "execution_count": 46,
   "id": "4c4e333b-087e-4005-84bf-e1d3c0200462",
   "metadata": {},
   "outputs": [
    {
     "data": {
      "text/html": [
       "<style>#sk-container-id-6 {color: black;}#sk-container-id-6 pre{padding: 0;}#sk-container-id-6 div.sk-toggleable {background-color: white;}#sk-container-id-6 label.sk-toggleable__label {cursor: pointer;display: block;width: 100%;margin-bottom: 0;padding: 0.3em;box-sizing: border-box;text-align: center;}#sk-container-id-6 label.sk-toggleable__label-arrow:before {content: \"▸\";float: left;margin-right: 0.25em;color: #696969;}#sk-container-id-6 label.sk-toggleable__label-arrow:hover:before {color: black;}#sk-container-id-6 div.sk-estimator:hover label.sk-toggleable__label-arrow:before {color: black;}#sk-container-id-6 div.sk-toggleable__content {max-height: 0;max-width: 0;overflow: hidden;text-align: left;background-color: #f0f8ff;}#sk-container-id-6 div.sk-toggleable__content pre {margin: 0.2em;color: black;border-radius: 0.25em;background-color: #f0f8ff;}#sk-container-id-6 input.sk-toggleable__control:checked~div.sk-toggleable__content {max-height: 200px;max-width: 100%;overflow: auto;}#sk-container-id-6 input.sk-toggleable__control:checked~label.sk-toggleable__label-arrow:before {content: \"▾\";}#sk-container-id-6 div.sk-estimator input.sk-toggleable__control:checked~label.sk-toggleable__label {background-color: #d4ebff;}#sk-container-id-6 div.sk-label input.sk-toggleable__control:checked~label.sk-toggleable__label {background-color: #d4ebff;}#sk-container-id-6 input.sk-hidden--visually {border: 0;clip: rect(1px 1px 1px 1px);clip: rect(1px, 1px, 1px, 1px);height: 1px;margin: -1px;overflow: hidden;padding: 0;position: absolute;width: 1px;}#sk-container-id-6 div.sk-estimator {font-family: monospace;background-color: #f0f8ff;border: 1px dotted black;border-radius: 0.25em;box-sizing: border-box;margin-bottom: 0.5em;}#sk-container-id-6 div.sk-estimator:hover {background-color: #d4ebff;}#sk-container-id-6 div.sk-parallel-item::after {content: \"\";width: 100%;border-bottom: 1px solid gray;flex-grow: 1;}#sk-container-id-6 div.sk-label:hover label.sk-toggleable__label {background-color: #d4ebff;}#sk-container-id-6 div.sk-serial::before {content: \"\";position: absolute;border-left: 1px solid gray;box-sizing: border-box;top: 0;bottom: 0;left: 50%;z-index: 0;}#sk-container-id-6 div.sk-serial {display: flex;flex-direction: column;align-items: center;background-color: white;padding-right: 0.2em;padding-left: 0.2em;position: relative;}#sk-container-id-6 div.sk-item {position: relative;z-index: 1;}#sk-container-id-6 div.sk-parallel {display: flex;align-items: stretch;justify-content: center;background-color: white;position: relative;}#sk-container-id-6 div.sk-item::before, #sk-container-id-6 div.sk-parallel-item::before {content: \"\";position: absolute;border-left: 1px solid gray;box-sizing: border-box;top: 0;bottom: 0;left: 50%;z-index: -1;}#sk-container-id-6 div.sk-parallel-item {display: flex;flex-direction: column;z-index: 1;position: relative;background-color: white;}#sk-container-id-6 div.sk-parallel-item:first-child::after {align-self: flex-end;width: 50%;}#sk-container-id-6 div.sk-parallel-item:last-child::after {align-self: flex-start;width: 50%;}#sk-container-id-6 div.sk-parallel-item:only-child::after {width: 0;}#sk-container-id-6 div.sk-dashed-wrapped {border: 1px dashed gray;margin: 0 0.4em 0.5em 0.4em;box-sizing: border-box;padding-bottom: 0.4em;background-color: white;}#sk-container-id-6 div.sk-label label {font-family: monospace;font-weight: bold;display: inline-block;line-height: 1.2em;}#sk-container-id-6 div.sk-label-container {text-align: center;}#sk-container-id-6 div.sk-container {/* jupyter's `normalize.less` sets `[hidden] { display: none; }` but bootstrap.min.css set `[hidden] { display: none !important; }` so we also need the `!important` here to be able to override the default hidden behavior on the sphinx rendered scikit-learn.org. See: https://github.com/scikit-learn/scikit-learn/issues/21755 */display: inline-block !important;position: relative;}#sk-container-id-6 div.sk-text-repr-fallback {display: none;}</style><div id=\"sk-container-id-6\" class=\"sk-top-container\"><div class=\"sk-text-repr-fallback\"><pre>LogisticRegression(max_iter=5000, multi_class=&#x27;multinomial&#x27;, solver=&#x27;saga&#x27;)</pre><b>In a Jupyter environment, please rerun this cell to show the HTML representation or trust the notebook. <br />On GitHub, the HTML representation is unable to render, please try loading this page with nbviewer.org.</b></div><div class=\"sk-container\" hidden><div class=\"sk-item\"><div class=\"sk-estimator sk-toggleable\"><input class=\"sk-toggleable__control sk-hidden--visually\" id=\"sk-estimator-id-6\" type=\"checkbox\" checked><label for=\"sk-estimator-id-6\" class=\"sk-toggleable__label sk-toggleable__label-arrow\">LogisticRegression</label><div class=\"sk-toggleable__content\"><pre>LogisticRegression(max_iter=5000, multi_class=&#x27;multinomial&#x27;, solver=&#x27;saga&#x27;)</pre></div></div></div></div></div>"
      ],
      "text/plain": [
       "LogisticRegression(max_iter=5000, multi_class='multinomial', solver='saga')"
      ]
     },
     "execution_count": 46,
     "metadata": {},
     "output_type": "execute_result"
    }
   ],
   "source": [
    "model = LogisticRegression(max_iter=5000, multi_class='multinomial', solver='saga')\n",
    "model.fit(X_train_scaled, y_train)\n"
   ]
  },
  {
   "cell_type": "code",
   "execution_count": 48,
   "id": "9485e089-f158-4738-8778-251472349782",
   "metadata": {},
   "outputs": [
    {
     "name": "stdout",
     "output_type": "stream",
     "text": [
      "Validation Accuracy: 0.911875\n"
     ]
    }
   ],
   "source": [
    "from sklearn.impute import SimpleImputer\n",
    "\n",
    "# (A) Impute before scaling\n",
    "imputer = SimpleImputer(strategy='mean')\n",
    "X_train_imp = imputer.fit_transform(X_train)\n",
    "X_val_imp = imputer.transform(X_val)\n",
    "X_test_imp = imputer.transform(X_test)\n",
    "\n",
    "# (B) Then scale\n",
    "from sklearn.preprocessing import StandardScaler\n",
    "scaler = StandardScaler()\n",
    "X_train_scaled = scaler.fit_transform(X_train_imp)\n",
    "X_val_scaled = scaler.transform(X_val_imp)\n",
    "X_test_scaled = scaler.transform(X_test_imp)\n",
    "\n",
    "# (C) Fit model\n",
    "model = LogisticRegression(max_iter=5000, multi_class='multinomial', solver='saga')\n",
    "model.fit(X_train_scaled, y_train)\n",
    "\n",
    "# (D) Predict and evaluate\n",
    "val_preds = model.predict(X_val_scaled)\n",
    "print(\"Validation Accuracy:\", accuracy_score(y_val, val_preds))\n"
   ]
  },
  {
   "cell_type": "code",
   "execution_count": 49,
   "id": "1ba9f063-ae84-4c3c-8dc4-035ea015be38",
   "metadata": {},
   "outputs": [
    {
     "name": "stdout",
     "output_type": "stream",
     "text": [
      "0 637\n"
     ]
    }
   ],
   "source": [
    "print(X_train.isnull().sum().sum(), X_val.isnull().sum().sum())\n"
   ]
  },
  {
   "cell_type": "code",
   "execution_count": 53,
   "id": "02dea70c-7baf-49ec-8d19-2fada89f268d",
   "metadata": {},
   "outputs": [
    {
     "name": "stdout",
     "output_type": "stream",
     "text": [
      "Validation Accuracy: 0.911875\n"
     ]
    }
   ],
   "source": [
    "# After imputation and scaling:\n",
    "val_preds = model.predict(X_val_scaled)\n",
    "print(\"Validation Accuracy:\", accuracy_score(y_val, val_preds))\n"
   ]
  },
  {
   "cell_type": "code",
   "execution_count": 54,
   "id": "fca9ede1-0de6-4da5-b124-d6fca76495ea",
   "metadata": {},
   "outputs": [
    {
     "name": "stdout",
     "output_type": "stream",
     "text": [
      "20150720_N    0\n",
      "20150602_N    0\n",
      "20150517_N    0\n",
      "20150501_N    0\n",
      "20150415_N    0\n",
      "20150330_N    0\n",
      "20150314_N    0\n",
      "20150226_N    0\n",
      "20150210_N    0\n",
      "20150125_N    0\n",
      "20150109_N    0\n",
      "20141117_N    0\n",
      "20141101_N    0\n",
      "20141016_N    0\n",
      "20140930_N    0\n",
      "20140813_N    0\n",
      "20140626_N    0\n",
      "20140610_N    0\n",
      "20140525_N    0\n",
      "20140509_N    0\n",
      "20140423_N    0\n",
      "20140407_N    0\n",
      "20140322_N    0\n",
      "20140218_N    0\n",
      "20140202_N    0\n",
      "20140117_N    0\n",
      "20140101_N    0\n",
      "ndvi_mean     0\n",
      "ndvi_std      0\n",
      "dtype: int64\n"
     ]
    }
   ],
   "source": [
    "print(np.isnan(X_test).sum())  # Should be 0 after imputation\n"
   ]
  },
  {
   "cell_type": "code",
   "execution_count": 55,
   "id": "604729ef-1b1d-4fa5-9ebb-25152e27ba90",
   "metadata": {},
   "outputs": [],
   "source": [
    "# Predict the encoded class labels for the test set\n",
    "test_preds = model.predict(X_test_scaled)\n"
   ]
  },
  {
   "cell_type": "code",
   "execution_count": 56,
   "id": "99193c0b-4f0c-4f99-a4f6-23d0cb1e0d82",
   "metadata": {},
   "outputs": [],
   "source": [
    "# Convert numeric predictions back to original class labels\n",
    "test_class_labels = le.inverse_transform(test_preds)\n"
   ]
  },
  {
   "cell_type": "code",
   "execution_count": 57,
   "id": "6c41c40e-a6e0-4325-baf5-e4efc036f12b",
   "metadata": {},
   "outputs": [],
   "source": [
    "# Add predictions to the test dataframe\n",
    "test_df['class'] = test_class_labels\n",
    "\n",
    "# Prepare submission DataFrame with only ID and class columns\n",
    "submission = test_df[['ID', 'class']]\n"
   ]
  },
  {
   "cell_type": "code",
   "execution_count": 60,
   "id": "88a27038-aefc-4421-80a2-531ea2a368bc",
   "metadata": {},
   "outputs": [],
   "source": [
    "# Save to CSV (no index)\n",
    "submission.to_csv('submissions/submission.csv', index=False)\n"
   ]
  },
  {
   "cell_type": "code",
   "execution_count": null,
   "id": "34e89317-2734-4347-a239-c19427299ebe",
   "metadata": {},
   "outputs": [],
   "source": []
  }
 ],
 "metadata": {
  "kernelspec": {
   "display_name": "Python 3 (ipykernel)",
   "language": "python",
   "name": "python3"
  },
  "language_info": {
   "codemirror_mode": {
    "name": "ipython",
    "version": 3
   },
   "file_extension": ".py",
   "mimetype": "text/x-python",
   "name": "python",
   "nbconvert_exporter": "python",
   "pygments_lexer": "ipython3",
   "version": "3.8.20"
  }
 },
 "nbformat": 4,
 "nbformat_minor": 5
}
